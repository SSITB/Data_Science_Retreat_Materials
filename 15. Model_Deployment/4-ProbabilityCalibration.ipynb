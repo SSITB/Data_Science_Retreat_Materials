{
 "cells": [
  {
   "cell_type": "markdown",
   "metadata": {},
   "source": [
    "### Load data"
   ]
  },
  {
   "cell_type": "code",
   "execution_count": 1,
   "metadata": {},
   "outputs": [
    {
     "data": {
      "text/html": [
       "<div>\n",
       "<style scoped>\n",
       "    .dataframe tbody tr th:only-of-type {\n",
       "        vertical-align: middle;\n",
       "    }\n",
       "\n",
       "    .dataframe tbody tr th {\n",
       "        vertical-align: top;\n",
       "    }\n",
       "\n",
       "    .dataframe thead th {\n",
       "        text-align: right;\n",
       "    }\n",
       "</style>\n",
       "<table border=\"1\" class=\"dataframe\">\n",
       "  <thead>\n",
       "    <tr style=\"text-align: right;\">\n",
       "      <th></th>\n",
       "      <th>label</th>\n",
       "      <th>predReg</th>\n",
       "      <th>predGbt</th>\n",
       "      <th>predReg_up</th>\n",
       "    </tr>\n",
       "  </thead>\n",
       "  <tbody>\n",
       "    <tr>\n",
       "      <th>0</th>\n",
       "      <td>0</td>\n",
       "      <td>3.482221e-12</td>\n",
       "      <td>0.004599</td>\n",
       "      <td>0.019115</td>\n",
       "    </tr>\n",
       "    <tr>\n",
       "      <th>1</th>\n",
       "      <td>0</td>\n",
       "      <td>5.931836e-05</td>\n",
       "      <td>0.005975</td>\n",
       "      <td>0.013693</td>\n",
       "    </tr>\n",
       "    <tr>\n",
       "      <th>2</th>\n",
       "      <td>0</td>\n",
       "      <td>2.187130e-02</td>\n",
       "      <td>0.027379</td>\n",
       "      <td>0.379243</td>\n",
       "    </tr>\n",
       "    <tr>\n",
       "      <th>3</th>\n",
       "      <td>0</td>\n",
       "      <td>5.470528e-05</td>\n",
       "      <td>0.005071</td>\n",
       "      <td>0.017319</td>\n",
       "    </tr>\n",
       "    <tr>\n",
       "      <th>4</th>\n",
       "      <td>0</td>\n",
       "      <td>1.706345e-06</td>\n",
       "      <td>0.005838</td>\n",
       "      <td>0.018895</td>\n",
       "    </tr>\n",
       "  </tbody>\n",
       "</table>\n",
       "</div>"
      ],
      "text/plain": [
       "   label       predReg   predGbt  predReg_up\n",
       "0      0  3.482221e-12  0.004599    0.019115\n",
       "1      0  5.931836e-05  0.005975    0.013693\n",
       "2      0  2.187130e-02  0.027379    0.379243\n",
       "3      0  5.470528e-05  0.005071    0.017319\n",
       "4      0  1.706345e-06  0.005838    0.018895"
      ]
     },
     "execution_count": 1,
     "metadata": {},
     "output_type": "execute_result"
    }
   ],
   "source": [
    "import pandas as pd\n",
    "predictions = pd.read_csv(\"./data/predictions_up.csv\")\n",
    "predictions.head()"
   ]
  },
  {
   "cell_type": "markdown",
   "metadata": {},
   "source": [
    "### Calibration error"
   ]
  },
  {
   "cell_type": "code",
   "execution_count": 2,
   "metadata": {},
   "outputs": [],
   "source": [
    "import math\n",
    "def calibrationError(predictions, modelName, bucketSize = 100):\n",
    "    count, sumPrediction, sumLabel = 0, 0, 0\n",
    "    bucketReturnRate = []\n",
    "    bucketPrediction = []\n",
    "    bucketErrors = []\n",
    "    for index, row in predictions.sort_values(by=[modelName]).iterrows():\n",
    "        sumLabel = sumLabel + row[\"label\"]\n",
    "        sumPrediction = sumPrediction + row[modelName]\n",
    "        count = count + 1\n",
    "        if(count == bucketSize):\n",
    "            predMean = sumPrediction / float(bucketSize)\n",
    "            returnRate = sumLabel / float(bucketSize)\n",
    "            bucketReturnRate.append(returnRate)\n",
    "            bucketPrediction.append(predMean)\n",
    "            bucketErrors.append(math.sqrt((predMean-returnRate)*(predMean-returnRate)))\n",
    "            count, sumPrediction, sumLabel = 0, 0, 0\n",
    "\n",
    "    return (bucketReturnRate, bucketPrediction, sum(bucketErrors) / float(len(bucketErrors)))"
   ]
  },
  {
   "cell_type": "code",
   "execution_count": 3,
   "metadata": {},
   "outputs": [
    {
     "data": {
      "image/png": "[encoded data removed]",
      "text/plain": [
       "<Figure size 432x288 with 1 Axes>"
      ]
     },
     "metadata": {},
     "output_type": "display_data"
    }
   ],
   "source": [
    "returnRate_gbt, scores_gbt, err_gbt = calibrationError(predictions, \"predGbt\")\n",
    "returnRate_reg, scores_reg, err_reg = calibrationError(predictions, \"predReg\")\n",
    "returnRate_regup, scores_regup, err_regup = calibrationError(predictions, \"predReg_up\")\n",
    "%matplotlib inline\n",
    "import matplotlib.pyplot as plt\n",
    "plt.figure()\n",
    "plt.plot([0, 1], [0, 1], label = \"perfect\")\n",
    "plt.plot(scores_gbt, returnRate_gbt, color = 'g', label = \"gbt_err:{:.3f}\".format(err_gbt))\n",
    "plt.plot(scores_reg, returnRate_reg, color = 'b', label = \"reg:{:.3f}\".format(err_reg))\n",
    "plt.plot(scores_regup, returnRate_regup, color = 'r', label = \"reg_up:{:.3f}\".format(err_regup))\n",
    "plt.legend()\n",
    "plt.grid()\n",
    "plt.show()"
   ]
  },
  {
   "cell_type": "code",
   "execution_count": 4,
   "metadata": {},
   "outputs": [
    {
     "name": "stdout",
     "output_type": "stream",
     "text": [
      "Calibration error gbt: 0.016\n",
      "Calibration error logreg: 0.011\n",
      "Calibration error upsampled-logreg: 0.198\n"
     ]
    }
   ],
   "source": [
    "print(\"Calibration error gbt: {:.3f}\".format(err_gbt))\n",
    "print(\"Calibration error logreg: {:.3f}\".format(err_reg))\n",
    "print(\"Calibration error upsampled-logreg: {:.3f}\".format(err_regup))"
   ]
  },
  {
   "cell_type": "markdown",
   "metadata": {},
   "source": [
    "### Calibration algorithm"
   ]
  },
  {
   "cell_type": "code",
   "execution_count": 5,
   "metadata": {},
   "outputs": [],
   "source": [
    "def trainCalibration(predictions, modelName, bucketSize = 100):\n",
    "    count, sumLabel = 0, 0\n",
    "    buckets = []\n",
    "    for index, row in predictions.sort_values(by=[modelName]).iterrows():\n",
    "        sumLabel = sumLabel + row[\"label\"]\n",
    "        count = count + 1\n",
    "        if(count == bucketSize):\n",
    "            returnRate = sumLabel / float(bucketSize)\n",
    "            buckets.append((row[modelName], returnRate))\n",
    "            count, sumLabel = 0, 0\n",
    "    \n",
    "    buckets.append((1,1))\n",
    "    return buckets"
   ]
  },
  {
   "cell_type": "code",
   "execution_count": 6,
   "metadata": {},
   "outputs": [],
   "source": [
    "def getCalibratedProb(p, calibBuckets):\n",
    "    i = 0\n",
    "    final_p = 0\n",
    "    while(p > calibBuckets[i][0]):\n",
    "        final_p = calibBuckets[i][1]\n",
    "        i = i+1\n",
    "    return final_p"
   ]
  },
  {
   "cell_type": "code",
   "execution_count": 7,
   "metadata": {},
   "outputs": [],
   "source": [
    " predictions_train = pd.read_csv(\"./data/predictions_train_up.csv\")"
   ]
  },
  {
   "cell_type": "code",
   "execution_count": 28,
   "metadata": {},
   "outputs": [
    {
     "name": "stdout",
     "output_type": "stream",
     "text": [
      "Calibration error gbt: \t \t \t 0.016\n",
      "Calibration error calibrated GBT: \t 0.013\n"
     ]
    }
   ],
   "source": [
    "calibGbt = trainCalibration(predictions_train, \"predGbt\")\n",
    "predictions[\"calibGbt\"] = predictions[\"predGbt\"].apply(lambda x: getCalibratedProb(x, calibGbt))\n",
    "err_gbt_calib = calibrationError(predictions, \"calibGbt\")[2]\n",
    "print(\"Calibration error gbt: \\t \\t \\t {:.3f}\".format(err_gbt))\n",
    "print(\"Calibration error calibrated GBT: \\t {:.3f}\".format(err_gbt_calib))"
   ]
  },
  {
   "cell_type": "code",
   "execution_count": 22,
   "metadata": {},
   "outputs": [
    {
     "name": "stdout",
     "output_type": "stream",
     "text": [
      "Calibration error logreg: \t \t 0.011\n",
      "Calibration error calibrated LogReg: \t 0.009\n"
     ]
    }
   ],
   "source": [
    "calibReg = trainCalibration(predictions_train, \"predReg\")\n",
    "predictions[\"calibReg\"] = predictions[\"predReg\"].map(lambda x: getCalibratedProb(x, calibReg))\n",
    "err_reg_calib = calibrationError(predictions, \"calibReg\")[2]\n",
    "print(\"Calibration error logreg: \\t \\t {:.3f}\".format(err_reg))\n",
    "print(\"Calibration error calibrated LogReg: \\t {:.3f}\".format(err_reg_calib))"
   ]
  },
  {
   "cell_type": "code",
   "execution_count": 21,
   "metadata": {},
   "outputs": [
    {
     "name": "stdout",
     "output_type": "stream",
     "text": [
      "Calibration error upsampled-logreg: \t \t 0.198\n",
      "Calibration error calibrated upsampled LogReg: \t 0.019\n"
     ]
    }
   ],
   "source": [
    "calibReg_up = trainCalibration(predictions_train, \"predReg_up\")\n",
    "predictions[\"calibReg_up\"] = predictions[\"predReg_up\"].map(lambda x: getCalibratedProb(x, calibReg_up))\n",
    "err_regup_calib = calibrationError(predictions, \"calibReg_up\")[2]\n",
    "print(\"Calibration error upsampled-logreg: \\t \\t {:.3f}\".format(err_regup))\n",
    "print(\"Calibration error calibrated upsampled LogReg: \\t {:.3f}\".format(err_regup_calib))"
   ]
  },
  {
   "cell_type": "code",
   "execution_count": 11,
   "metadata": {},
   "outputs": [],
   "source": [
    "# df1 = predictions.sort_values(['predReg']).reset_index(drop=True)\n",
    "# df2 = df1.groupby(np.arange(len(df1))//100).mean()"
   ]
  }
 ],
 "metadata": {
  "kernelspec": {
   "display_name": "Python 3",
   "language": "python",
   "name": "python3"
  },
  "language_info": {
   "codemirror_mode": {
    "name": "ipython",
    "version": 3
   },
   "file_extension": ".py",
   "mimetype": "text/x-python",
   "name": "python",
   "nbconvert_exporter": "python",
   "pygments_lexer": "ipython3",
   "version": "3.6.6"
  }
 },
 "nbformat": 4,
 "nbformat_minor": 2
}
