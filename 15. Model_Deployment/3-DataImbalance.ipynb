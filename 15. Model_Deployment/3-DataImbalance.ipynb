{
 "cells": [
  {
   "cell_type": "code",
   "execution_count": 1,
   "metadata": {},
   "outputs": [
    {
     "name": "stderr",
     "output_type": "stream",
     "text": [
      "/Users/pbaier/anaconda3/envs/fraud_detector/lib/python3.6/importlib/_bootstrap.py:219: RuntimeWarning: numpy.dtype size changed, may indicate binary incompatibility. Expected 96, got 88\n",
      "  return f(*args, **kwds)\n",
      "/Users/pbaier/anaconda3/envs/fraud_detector/lib/python3.6/importlib/_bootstrap.py:219: RuntimeWarning: numpy.dtype size changed, may indicate binary incompatibility. Expected 96, got 88\n",
      "  return f(*args, **kwds)\n",
      "/Users/pbaier/anaconda3/envs/fraud_detector/lib/python3.6/importlib/_bootstrap.py:219: RuntimeWarning: numpy.dtype size changed, may indicate binary incompatibility. Expected 96, got 88\n",
      "  return f(*args, **kwds)\n",
      "/Users/pbaier/anaconda3/envs/fraud_detector/lib/python3.6/importlib/_bootstrap.py:219: RuntimeWarning: numpy.dtype size changed, may indicate binary incompatibility. Expected 96, got 88\n",
      "  return f(*args, **kwds)\n",
      "/Users/pbaier/anaconda3/envs/fraud_detector/lib/python3.6/site-packages/sklearn/ensemble/weight_boosting.py:29: DeprecationWarning: numpy.core.umath_tests is an internal NumPy module and should not be imported. It will be removed in a future NumPy release.\n",
      "  from numpy.core.umath_tests import inner1d\n"
     ]
    }
   ],
   "source": [
    "from sklearn.linear_model import LogisticRegression\n",
    "from sklearn.ensemble import GradientBoostingClassifier\n",
    "import pandas as pd\n",
    "from sklearn.utils import resample\n",
    "from sklearn import metrics"
   ]
  },
  {
   "cell_type": "code",
   "execution_count": 2,
   "metadata": {},
   "outputs": [],
   "source": [
    "train = pd.read_pickle(\"./data/train.pickle\")\n",
    "test = pd.read_pickle(\"./data/test.pickle\")"
   ]
  },
  {
   "cell_type": "markdown",
   "metadata": {},
   "source": [
    "## Upsampling"
   ]
  },
  {
   "cell_type": "code",
   "execution_count": 3,
   "metadata": {},
   "outputs": [
    {
     "name": "stdout",
     "output_type": "stream",
     "text": [
      "(21033, 8752)\n"
     ]
    },
    {
     "data": {
      "text/plain": [
       "1    21033\n",
       "0    21033\n",
       "Name: returnLabel, dtype: int64"
      ]
     },
     "execution_count": 3,
     "metadata": {},
     "output_type": "execute_result"
    }
   ],
   "source": [
    "train_majority = train[train.returnLabel==0].reset_index(drop=True)\n",
    "train_minority = train[train.returnLabel==1].reset_index(drop=True)\n",
    "\n",
    "# Upsample minority class\n",
    "train_minority_upsampled = resample(train_minority, \n",
    "                                 replace=True,     # sample with replacement\n",
    "                                 n_samples=train_majority.shape[0],  # to match majority class\n",
    "                                 random_state=123) # reproducible results\n",
    "\n",
    "print(train_minority_upsampled.shape)\n",
    "\n",
    "# Combine majority class with upsampled minority class\n",
    "train_upsampled = pd.concat([train_majority, train_minority_upsampled])\n",
    "\n",
    "# Show new class counts\n",
    "train_upsampled.returnLabel.value_counts()"
   ]
  },
  {
   "cell_type": "code",
   "execution_count": 4,
   "metadata": {
    "scrolled": true
   },
   "outputs": [
    {
     "data": {
      "text/plain": [
       "(21033, 8752)"
      ]
     },
     "execution_count": 4,
     "metadata": {},
     "output_type": "execute_result"
    }
   ],
   "source": [
    "# or do it by hand\n",
    "import random\n",
    "\n",
    "diff = train_majority.shape[0] - train_minority.shape[0]\n",
    "append_list = []\n",
    "indexes = list(train_minority.index.values) \n",
    "\n",
    "for i in range(diff):\n",
    "    idx = random.choice(indexes)\n",
    "    append_list.append(idx)\n",
    "\n",
    "replicatedData = train_minority.iloc[append_list]\n",
    "    \n",
    "train_minority_upsampled_hand = train_minority.append(replicatedData)\n",
    "train_minority_upsampled_hand.shape"
   ]
  },
  {
   "cell_type": "code",
   "execution_count": 5,
   "metadata": {},
   "outputs": [],
   "source": [
    "X_train = train_upsampled[train_upsampled.columns[1:]]\n",
    "y_train = train_upsampled[\"returnLabel\"]\n",
    "X_test = test[test.columns[1:]]\n",
    "y_test = test[\"returnLabel\"]"
   ]
  },
  {
   "cell_type": "code",
   "execution_count": 6,
   "metadata": {},
   "outputs": [
    {
     "data": {
      "text/plain": [
       "LogisticRegression(C=1.0, class_weight=None, dual=False, fit_intercept=True,\n",
       "          intercept_scaling=1, max_iter=100, multi_class='ovr', n_jobs=1,\n",
       "          penalty='l2', random_state=None, solver='liblinear', tol=0.0001,\n",
       "          verbose=0, warm_start=False)"
      ]
     },
     "execution_count": 6,
     "metadata": {},
     "output_type": "execute_result"
    }
   ],
   "source": [
    "from sklearn.linear_model import LogisticRegression\n",
    "logreg_up = LogisticRegression()\n",
    "logreg_up.fit(X_train, y_train)"
   ]
  },
  {
   "cell_type": "code",
   "execution_count": 7,
   "metadata": {},
   "outputs": [
    {
     "data": {
      "text/plain": [
       "GradientBoostingClassifier(criterion='friedman_mse', init=None,\n",
       "              learning_rate=0.1, loss='deviance', max_depth=3,\n",
       "              max_features=None, max_leaf_nodes=None,\n",
       "              min_impurity_decrease=0.0, min_impurity_split=None,\n",
       "              min_samples_leaf=1, min_samples_split=2,\n",
       "              min_weight_fraction_leaf=0.0, n_estimators=100,\n",
       "              presort='auto', random_state=None, subsample=1.0, verbose=0,\n",
       "              warm_start=False)"
      ]
     },
     "execution_count": 7,
     "metadata": {},
     "output_type": "execute_result"
    }
   ],
   "source": [
    "from sklearn.ensemble import GradientBoostingClassifier\n",
    "gbt_up = GradientBoostingClassifier()\n",
    "gbt_up.fit(X_train, y_train)"
   ]
  },
  {
   "cell_type": "code",
   "execution_count": 8,
   "metadata": {},
   "outputs": [],
   "source": [
    "test_scores = logreg_up.predict_proba(X_test)\n",
    "fpr_reg_up, tpr_reg_up, _ = metrics.roc_curve(y_test, test_scores[:,1])\n",
    "auc_reg_up = metrics.auc(fpr_reg_up, tpr_reg_up)"
   ]
  },
  {
   "cell_type": "code",
   "execution_count": 9,
   "metadata": {},
   "outputs": [],
   "source": [
    "test_scores = gbt_up.predict_proba(X_test)\n",
    "fpr_gbt_up, tpr_gbt_up, _ = metrics.roc_curve(y_test, test_scores[:,1])\n",
    "auc_gbt_up = metrics.auc(fpr_gbt_up, tpr_gbt_up)"
   ]
  },
  {
   "cell_type": "code",
   "execution_count": 10,
   "metadata": {},
   "outputs": [],
   "source": [
    "predictions = pd.read_csv(\"./data/predictions.csv\")\n",
    "fpr_reg, tpr_reg, _ = metrics.roc_curve(predictions[\"label\"], predictions[\"predReg\"])\n",
    "auc_reg = metrics.auc(fpr_reg, tpr_reg)\n",
    "fpr_gbt, tpr_gbt, _ = metrics.roc_curve(predictions[\"label\"], predictions[\"predGbt\"])\n",
    "auc_gbt = metrics.auc(fpr_gbt, tpr_gbt)"
   ]
  },
  {
   "cell_type": "code",
   "execution_count": 11,
   "metadata": {},
   "outputs": [
    {
     "data": {
      "image/png": "[encoded data removed]",
      "text/plain": [
       "<Figure size 432x288 with 1 Axes>"
      ]
     },
     "metadata": {},
     "output_type": "display_data"
    }
   ],
   "source": [
    "%matplotlib inline\n",
    "import matplotlib.pyplot as plt\n",
    "plt.figure()\n",
    "plt.plot(fpr_reg_up, tpr_reg_up, color = 'red', label = \"reg_up:{:.2f}\".format(auc_reg_up))\n",
    "plt.plot(fpr_gbt_up, tpr_gbt_up, color = 'black', label = \"gbt_up:{:.2f}\".format(auc_gbt_up))\n",
    "plt.plot(fpr_reg, tpr_reg, color = 'blue', label = \"reg:{:.2f}\".format(auc_reg))\n",
    "plt.plot(fpr_gbt, tpr_gbt, color = 'green', label = \"gbt:{:.2f}\".format(auc_gbt))\n",
    "plt.legend()\n",
    "plt.grid()\n",
    "plt.show()"
   ]
  },
  {
   "cell_type": "code",
   "execution_count": 12,
   "metadata": {},
   "outputs": [],
   "source": [
    "# save predictions of upsampled reg model\n",
    "predictions['predReg_up'] = test_scores[:,1]\n",
    "predictions.to_csv(\"./data/predictions_up.csv\", index=False)"
   ]
  },
  {
   "cell_type": "markdown",
   "metadata": {},
   "source": [
    "### Save predictions on train data for probCalib"
   ]
  },
  {
   "cell_type": "code",
   "execution_count": 13,
   "metadata": {},
   "outputs": [],
   "source": [
    "# save predictions to csv\n",
    "df = pd.read_csv(\"./data/predictions_train.csv\")\n",
    "df[\"predReg_up\"] = logreg_up.predict_proba(train[train.columns[1:]])[:,1]\n",
    "df.to_csv(\"./data/predictions_train_up.csv\", index=False)"
   ]
  },
  {
   "cell_type": "markdown",
   "metadata": {},
   "source": [
    "## Downsampling"
   ]
  },
  {
   "cell_type": "code",
   "execution_count": 14,
   "metadata": {},
   "outputs": [
    {
     "name": "stdout",
     "output_type": "stream",
     "text": [
      "(667, 8752)\n"
     ]
    },
    {
     "data": {
      "text/plain": [
       "1    667\n",
       "0    667\n",
       "Name: returnLabel, dtype: int64"
      ]
     },
     "execution_count": 14,
     "metadata": {},
     "output_type": "execute_result"
    }
   ],
   "source": [
    "# Upsample minority class\n",
    "train_majority_downsampled = resample(train_majority,\n",
    "                                 n_samples=train_minority.shape[0],  # to match majority class\n",
    "                                 random_state=123) # reproducible results\n",
    "\n",
    "print(train_majority_downsampled.shape)\n",
    "\n",
    "# Combine majority class with upsampled minority class\n",
    "train_downsampled = pd.concat([train_majority_downsampled, train_minority])\n",
    "\n",
    "# Show new class counts\n",
    "train_downsampled.returnLabel.value_counts()"
   ]
  },
  {
   "cell_type": "code",
   "execution_count": 15,
   "metadata": {},
   "outputs": [],
   "source": [
    "X_train = train_downsampled[train_downsampled.columns[1:]]\n",
    "y_train = train_downsampled[\"returnLabel\"]"
   ]
  },
  {
   "cell_type": "code",
   "execution_count": 16,
   "metadata": {},
   "outputs": [
    {
     "data": {
      "text/plain": [
       "GradientBoostingClassifier(criterion='friedman_mse', init=None,\n",
       "              learning_rate=0.1, loss='deviance', max_depth=3,\n",
       "              max_features=None, max_leaf_nodes=None,\n",
       "              min_impurity_decrease=0.0, min_impurity_split=None,\n",
       "              min_samples_leaf=1, min_samples_split=2,\n",
       "              min_weight_fraction_leaf=0.0, n_estimators=100,\n",
       "              presort='auto', random_state=None, subsample=1.0, verbose=0,\n",
       "              warm_start=False)"
      ]
     },
     "execution_count": 16,
     "metadata": {},
     "output_type": "execute_result"
    }
   ],
   "source": [
    "logreg_up = LogisticRegression()\n",
    "logreg_up.fit(X_train, y_train)\n",
    "gbt_up = GradientBoostingClassifier()\n",
    "gbt_up.fit(X_train, y_train)"
   ]
  },
  {
   "cell_type": "code",
   "execution_count": 17,
   "metadata": {},
   "outputs": [],
   "source": [
    "test_scores = logreg_up.predict_proba(X_test)\n",
    "fpr_reg_up, tpr_reg_up, _ = metrics.roc_curve(y_test, test_scores[:,1])\n",
    "auc_reg_up = metrics.auc(fpr_reg_up, tpr_reg_up)\n",
    "test_scores = gbt_up.predict_proba(X_test)\n",
    "fpr_gbt_up, tpr_gbt_up, _ = metrics.roc_curve(y_test, test_scores[:,1])\n",
    "auc_gbt_up = metrics.auc(fpr_gbt_up, tpr_gbt_up)"
   ]
  },
  {
   "cell_type": "code",
   "execution_count": 18,
   "metadata": {},
   "outputs": [
    {
     "data": {
      "image/png": "[encoded data removed]",
      "text/plain": [
       "<Figure size 432x288 with 1 Axes>"
      ]
     },
     "metadata": {},
     "output_type": "display_data"
    }
   ],
   "source": [
    "%matplotlib inline\n",
    "import matplotlib.pyplot as plt\n",
    "plt.figure()\n",
    "plt.plot(fpr_reg_up, tpr_reg_up, color = 'red', label = \"reg_down:{:.2f}\".format(auc_reg_up))\n",
    "plt.plot(fpr_gbt_up, tpr_gbt_up, color = 'black', label = \"gbt_down:{:.2f}\".format(auc_gbt_up))\n",
    "plt.plot(fpr_reg, tpr_reg, color = 'blue', label = \"reg:{:.2f}\".format(auc_reg))\n",
    "plt.plot(fpr_gbt, tpr_gbt, color = 'green', label = \"gbt:{:.2f}\".format(auc_gbt))\n",
    "plt.legend()\n",
    "plt.grid()\n",
    "plt.show()"
   ]
  },
  {
   "cell_type": "code",
   "execution_count": null,
   "metadata": {},
   "outputs": [],
   "source": []
  }
 ],
 "metadata": {
  "kernelspec": {
   "display_name": "Python 3",
   "language": "python",
   "name": "python3"
  },
  "language_info": {
   "codemirror_mode": {
    "name": "ipython",
    "version": 3
   },
   "file_extension": ".py",
   "mimetype": "text/x-python",
   "name": "python",
   "nbconvert_exporter": "python",
   "pygments_lexer": "ipython3",
   "version": "3.6.6"
  }
 },
 "nbformat": 4,
 "nbformat_minor": 2
}
