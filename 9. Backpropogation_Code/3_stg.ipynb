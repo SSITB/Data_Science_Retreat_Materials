{
 "cells": [
  {
   "cell_type": "markdown",
   "metadata": {},
   "source": [
    "### DSR 20 - Backprop course\n",
    "\n",
    "## 3. NN and backprop\n",
    "### Here we are going to implement a Multy Layered Neural Netwrok.\n",
    "### We will use and extreme case of SGD where the batch size is 1 (i.e updating weights after every sample)"
   ]
  },
  {
   "cell_type": "code",
   "execution_count": 1,
   "metadata": {},
   "outputs": [],
   "source": [
    "import numpy as np\n",
    "import matplotlib.pyplot as plt"
   ]
  },
  {
   "cell_type": "markdown",
   "metadata": {},
   "source": [
    "### multi layer perceptron class:\n",
    "\n",
    "loss function:\n",
    "$$ loss = 0.5(pred-true)^{2}$$\n"
   ]
  },
  {
   "cell_type": "code",
   "execution_count": 2,
   "metadata": {},
   "outputs": [],
   "source": [
    "class NeuralNetwork:\n",
    "    def __init__(self, layers, alpha=0.1):\n",
    "    # initialize the list of weights matrices, then store the\n",
    "    # network architecture and learning rate\n",
    "        self.W = []\n",
    "        self.layers = layers\n",
    "        self.alpha = alpha\n",
    "        # start looping from the index of the first layer but\n",
    "        # stop before we reach the last two layers\n",
    "        for i in np.arange(0, len(layers) - 2):\n",
    "            # randomly initialize a weight matrix connecting the\n",
    "            # number of nodes in each respective layer together,\n",
    "            # adding an extra node for the bias\n",
    "            w = np.random.randn(layers[i] + 1, layers[i + 1] + 1)\n",
    "            self.W.append(w / np.sqrt(layers[i]))\n",
    "        # the last two layers are a special case where the input\n",
    "        # connections need a bias term but the output does not\n",
    "        w = np.random.randn(layers[-2] + 1, layers[-1])\n",
    "        self.W.append(w / np.sqrt(layers[-2]))\n",
    "    \n",
    "    def __repr__(self):\n",
    "        # construct and return a string that represents the network\n",
    "        # architecture\n",
    "        return \"NN architecture: {}\".format(\n",
    "        \"-\".join(str(l) for l in self.layers))\n",
    "    \n",
    "    def sigmoid(self, x):\n",
    "        # compute and return the sigmoid activation value for a\n",
    "        # given input value\n",
    "        return 1.0 / (1 + np.exp(-x))\n",
    "    \n",
    "    def sigmoid_deriv(self, x):\n",
    "        # compute the derivative of the sigmoid function ASSUMING\n",
    "        # that `x` has already been passed through the `sigmoid`\n",
    "        # function\n",
    "        return x * (1 - x)\n",
    "    \n",
    "    def fit(self, X, y, epochs=1000, displayUpdate=100):\n",
    "        # insert a column of 1's as the last entry in the feature\n",
    "        # matrix -- this little trick allows us to treat the bias\n",
    "        # as a trainable parameter within the weight matrix\n",
    "        X = np.c_[X, np.ones((X.shape[0]))]\n",
    "        losses = []\n",
    "        # loop over the desired number of epochs\n",
    "        for epoch in np.arange(0, epochs):\n",
    "            # loop over each individual data point and train\n",
    "            # our network on it\n",
    "            for (x, target) in zip(X, y):\n",
    "                self.fit_partial(x, target)\n",
    "                # check to see if we should display a training update\n",
    "            if epoch == 0 or (epoch + 1) % displayUpdate == 0:\n",
    "                loss = self.calculate_loss(X, y)\n",
    "                print(\"[Training: ] epoch=\", epoch+1, \", loss=\",loss)\n",
    "                losses.append(loss)  \n",
    "        return losses\n",
    "                    \n",
    "    def fit_partial(self, x, y):\n",
    "        # construct our list of output activations for each layer\n",
    "        # as our data point flows through the network; the first\n",
    "        # activation is a special case -- it's just the input\n",
    "        # feature vector itself\n",
    "        A = [np.atleast_2d(x)]\n",
    "        # FEEDFORWARD:\n",
    "        # loop over the layers in the network\n",
    "        for layer in np.arange(0, len(self.W)):\n",
    "            # feedforward the activation at the current layer by\n",
    "            # taking the dot product between the activation and\n",
    "            # the weight matrix -- this is called the \"net input\"\n",
    "            # to the current layer\n",
    "            net = A[layer].dot(self.W[layer])\n",
    "            # computing the \"net output\" is simply applying our\n",
    "            # nonlinear activation function to the net input\n",
    "            out = self.sigmoid(net)\n",
    "            # once we have the net output, add it to our list of\n",
    "            # activations\n",
    "            A.append(out)\n",
    "\n",
    "        # BACKPROPAGATION\n",
    "        # the first phase of backpropagation is to compute the\n",
    "        # difference between our *prediction* (the final output\n",
    "        # activation in the activations list) and the true target\n",
    "        # value\n",
    "        derror = A[-1] - y\n",
    "\n",
    "        # from here, we need to apply the chain rule and build our\n",
    "        # list of deltas `D`; the first entry in the deltas is\n",
    "        # simply the error of the output layer times the derivative\n",
    "        # of our activation function for the output value\n",
    "        D = [derror * self.sigmoid_deriv(A[-1])]\n",
    "        # once you understand the chain rule it becomes super easy\n",
    "        # to implement with a `for` loop -- simply loop over the\n",
    "        # layers in reverse order (ignoring the last two since we\n",
    "        # already have taken them into account)\n",
    "        for layer in np.arange(len(A) - 2, 0, -1):\n",
    "            # the delta for the current layer is equal to the delta\n",
    "            # of the *previous layer* dotted with the weight matrix\n",
    "            # of the current layer, followed by multiplying the delta\n",
    "            # by the derivative of the nonlinear activation function\n",
    "            # for the activations of the current layer\n",
    "            delta = D[-1].dot(self.W[layer].T)\n",
    "            delta = delta * self.sigmoid_deriv(A[layer])\n",
    "            D.append(delta)\n",
    "        # since we looped over our layers in reverse order we need to\n",
    "        # reverse the deltas\n",
    "        D = D[::-1]\n",
    "        # WEIGHT UPDATE PHASE\n",
    "        # loop over the layers\n",
    "        for layer in np.arange(0, len(self.W)):\n",
    "        # update our weights by taking the dot product of the layer\n",
    "        # activations with their respective deltas, then multiplying\n",
    "        # this value by some small learning rate and adding to our\n",
    "        # weight matrix -- this is where the actual \"learning\" takes\n",
    "        # place\n",
    "            self.W[layer] += -self.alpha * A[layer].T.dot(D[layer])\n",
    "            \n",
    "    def predict(self, X,addBias=False):\n",
    "        # initialize the output prediction as the input features -- this\n",
    "        # value will be (forward) propagated through the network to\n",
    "        # obtain the final prediction\n",
    "        p = np.atleast_2d(X)\n",
    "        # insert a column of 1's as the last entry in the feature\n",
    "        # matrix (bias)\n",
    "        if addBias:\n",
    "            p = np.c_[p, np.ones((p.shape[0]))]\n",
    "        # loop over our layers in the network\n",
    "        for layer in np.arange(0, len(self.W)):\n",
    "            # computing the output prediction is simply\n",
    "            # the forward pass\n",
    "            \n",
    "            p = self.sigmoid(np.dot(p, self.W[layer]))\n",
    "        return p\n",
    "    \n",
    "    def calculate_loss(self, X, targets):\n",
    "        # make predictions for the input data points then compute\n",
    "        # the loss\n",
    "        targets = np.atleast_2d(targets)\n",
    "        predictions = self.predict(X)\n",
    "        loss = 0.5 * np.sum((predictions - targets) ** 2)\n",
    "        return loss"
   ]
  },
  {
   "cell_type": "code",
   "execution_count": 3,
   "metadata": {},
   "outputs": [
    {
     "name": "stdout",
     "output_type": "stream",
     "text": [
      "<bound method NeuralNetwork.__repr__ of NN architecture: 2-2-1>\n",
      "[Training: ] epoch= 1 , loss= 0.5285987447964162\n",
      "[Training: ] epoch= 100 , loss= 0.4945982761719973\n",
      "[Training: ] epoch= 200 , loss= 0.4813505299681656\n",
      "[Training: ] epoch= 300 , loss= 0.4245385672646197\n",
      "[Training: ] epoch= 400 , loss= 0.26098392573508966\n",
      "[Training: ] epoch= 500 , loss= 0.10914532924770537\n",
      "[Training: ] epoch= 600 , loss= 0.05181419689360035\n",
      "[Training: ] epoch= 700 , loss= 0.030213359568980115\n",
      "[Training: ] epoch= 800 , loss= 0.020225324393980833\n",
      "[Training: ] epoch= 900 , loss= 0.014794794329472892\n",
      "[Training: ] epoch= 1000 , loss= 0.01148503144739535\n",
      "[Training: ] epoch= 1100 , loss= 0.009296361030872806\n",
      "[Training: ] epoch= 1200 , loss= 0.007759298530086103\n",
      "[Training: ] epoch= 1300 , loss= 0.006629276597990424\n",
      "[Training: ] epoch= 1400 , loss= 0.005768208309143876\n",
      "[Training: ] epoch= 1500 , loss= 0.005092987671657987\n",
      "[Training: ] epoch= 1600 , loss= 0.004550949267837429\n",
      "[Training: ] epoch= 1700 , loss= 0.004107270551855164\n",
      "[Training: ] epoch= 1800 , loss= 0.003738095052987166\n",
      "[Training: ] epoch= 1900 , loss= 0.003426580347038545\n",
      "[Training: ] epoch= 2000 , loss= 0.0031605255997974382\n",
      "[Training: ] epoch= 2100 , loss= 0.0029308930460225594\n",
      "[Training: ] epoch= 2200 , loss= 0.0027308562021638606\n",
      "[Training: ] epoch= 2300 , loss= 0.0025551695374514006\n",
      "[Training: ] epoch= 2400 , loss= 0.002399740467870993\n",
      "[Training: ] epoch= 2500 , loss= 0.0022613322101474437\n",
      "[Training: ] epoch= 2600 , loss= 0.0021373533549331565\n",
      "[Training: ] epoch= 2700 , loss= 0.002025706171906519\n",
      "[Training: ] epoch= 2800 , loss= 0.0019246754795698086\n",
      "[Training: ] epoch= 2900 , loss= 0.0018328460339993532\n",
      "[Training: ] epoch= 3000 , loss= 0.0017490402942911716\n",
      "[Training: ] epoch= 3100 , loss= 0.0016722709634998914\n",
      "[Training: ] epoch= 3200 , loss= 0.001601704389491608\n",
      "[Training: ] epoch= 3300 , loss= 0.0015366320477832396\n",
      "[Training: ] epoch= 3400 , loss= 0.0014764481085607828\n",
      "[Training: ] epoch= 3500 , loss= 0.00142063163292414\n",
      "[Training: ] epoch= 3600 , loss= 0.0013687323263245083\n",
      "[Training: ] epoch= 3700 , loss= 0.0013203590506885687\n",
      "[Training: ] epoch= 3800 , loss= 0.001275170494421024\n",
      "[Training: ] epoch= 3900 , loss= 0.0012328675439370312\n",
      "[Training: ] epoch= 4000 , loss= 0.0011931870070248703\n",
      "[Training: ] epoch= 4100 , loss= 0.001155896417830457\n",
      "[Training: ] epoch= 4200 , loss= 0.001120789713043198\n",
      "[Training: ] epoch= 4300 , loss= 0.0010876836142129228\n",
      "[Training: ] epoch= 4400 , loss= 0.0010564145858040096\n",
      "[Training: ] epoch= 4500 , loss= 0.001026836265307003\n",
      "[Training: ] epoch= 4600 , loss= 0.0009988172824579827\n",
      "[Training: ] epoch= 4700 , loss= 0.0009722394008086391\n",
      "[Training: ] epoch= 4800 , loss= 0.000946995927622779\n",
      "[Training: ] epoch= 4900 , loss= 0.0009229903481455758\n",
      "[Training: ] epoch= 5000 , loss= 0.0009001351483056578\n",
      "[Training: ] epoch= 5100 , loss= 0.0008783507963204876\n",
      "[Training: ] epoch= 5200 , loss= 0.0008575648588314463\n",
      "[Training: ] epoch= 5300 , loss= 0.000837711231362502\n",
      "[Training: ] epoch= 5400 , loss= 0.000818729466281003\n",
      "[Training: ] epoch= 5500 , loss= 0.000800564184200796\n",
      "[Training: ] epoch= 5600 , loss= 0.0007831645570310732\n",
      "[Training: ] epoch= 5700 , loss= 0.0007664838527366152\n",
      "[Training: ] epoch= 5800 , loss= 0.0007504790334142366\n",
      "[Training: ] epoch= 5900 , loss= 0.0007351103995665284\n",
      "[Training: ] epoch= 6000 , loss= 0.0007203412745168418\n",
      "[Training: ] epoch= 6100 , loss= 0.0007061377237974402\n",
      "[Training: ] epoch= 6200 , loss= 0.0006924683050870929\n",
      "[Training: ] epoch= 6300 , loss= 0.0006793038449009301\n",
      "[Training: ] epoch= 6400 , loss= 0.0006666172387634858\n",
      "[Training: ] epoch= 6500 , loss= 0.0006543832720436504\n",
      "[Training: ] epoch= 6600 , loss= 0.0006425784590097273\n",
      "[Training: ] epoch= 6700 , loss= 0.0006311808979861866\n",
      "[Training: ] epoch= 6800 , loss= 0.0006201701407700592\n",
      "[Training: ] epoch= 6900 , loss= 0.000609527074701032\n",
      "[Training: ] epoch= 7000 , loss= 0.0005992338159821281\n",
      "[Training: ] epoch= 7100 , loss= 0.0005892736130225695\n",
      "[Training: ] epoch= 7200 , loss= 0.000579630758724856\n",
      "[Training: ] epoch= 7300 , loss= 0.0005702905107682755\n",
      "[Training: ] epoch= 7400 , loss= 0.0005612390190536924\n",
      "[Training: ] epoch= 7500 , loss= 0.0005524632595727283\n",
      "[Training: ] epoch= 7600 , loss= 0.0005439509740493138\n",
      "[Training: ] epoch= 7700 , loss= 0.0005356906147760015\n",
      "[Training: ] epoch= 7800 , loss= 0.0005276712941326207\n",
      "[Training: ] epoch= 7900 , loss= 0.00051988273833134\n",
      "[Training: ] epoch= 8000 , loss= 0.0005123152449823587\n",
      "[Training: ] epoch= 8100 , loss= 0.0005049596441181487\n",
      "[Training: ] epoch= 8200 , loss= 0.0004978072623527725\n",
      "[Training: ] epoch= 8300 , loss= 0.0004908498898869094\n",
      "[Training: ] epoch= 8400 , loss= 0.00048407975009914827\n",
      "[Training: ] epoch= 8500 , loss= 0.00047748947149083845\n",
      "[Training: ] epoch= 8600 , loss= 0.00047107206177534765\n",
      "[Training: ] epoch= 8700 , loss= 0.00046482088392333363\n",
      "[Training: ] epoch= 8800 , loss= 0.0004587296339946165\n",
      "[Training: ] epoch= 8900 , loss= 0.000452792320603318\n",
      "[Training: ] epoch= 9000 , loss= 0.00044700324587822107\n",
      "[Training: ] epoch= 9100 , loss= 0.0004413569877929987\n",
      "[Training: ] epoch= 9200 , loss= 0.00043584838375318024\n",
      "[Training: ] epoch= 9300 , loss= 0.0004304725153370381\n",
      "[Training: ] epoch= 9400 , loss= 0.00042522469409708654\n",
      "[Training: ] epoch= 9500 , loss= 0.0004201004483374088\n",
      "[Training: ] epoch= 9600 , loss= 0.00041509551078976637\n",
      "[Training: ] epoch= 9700 , loss= 0.00041020580711807395\n",
      "[Training: ] epoch= 9800 , loss= 0.0004054274451872693\n",
      "[Training: ] epoch= 9900 , loss= 0.0004007567050380827\n",
      "[Training: ] epoch= 10000 , loss= 0.00039619002951424157\n"
     ]
    }
   ],
   "source": [
    "# construct the XOR dataset\n",
    "X = np.array([[0, 0], [0, 1], [1, 0], [1, 1]])\n",
    "y = np.array([[0], [1], [1], [0]])\n",
    "\n",
    "# define our 2-2-1 neural network and train it\n",
    "nn = NeuralNetwork([2, 2,1], alpha=0.5)\n",
    "print(nn.__repr__)\n",
    "# fit the Neural Network\n",
    "losses=nn.fit(X,y,10000)"
   ]
  },
  {
   "cell_type": "code",
   "execution_count": 4,
   "metadata": {},
   "outputs": [
    {
     "name": "stdout",
     "output_type": "stream",
     "text": [
      "data= [0 0] , ground-truth= [0] , pred=, [[0.01461092]]  step= 0\n",
      "data= [0 1] , ground-truth= [1] , pred=, [[0.98599034]]  step= 1\n",
      "data= [1 0] , ground-truth= [1] , pred=, [[0.98479986]]  step= 1\n",
      "data= [1 1] , ground-truth= [0] , pred=, [[0.01231204]]  step= 0\n"
     ]
    }
   ],
   "source": [
    "# now that our network is trained, loop over the XOR data points\n",
    "for (x, target) in zip(X, y):\n",
    "    # make a prediction on the data point and display the result\n",
    "    # to our console\n",
    "    pred = nn.predict(x,addBias=True)\n",
    "    step = 1 if pred > 0.5 else 0\n",
    "    print(\"data=\",x,\", ground-truth=\",target,\", pred=,\",pred,\" step=\",step)"
   ]
  },
  {
   "cell_type": "code",
   "execution_count": 5,
   "metadata": {},
   "outputs": [
    {
     "data": {
      "text/plain": [
       "[<matplotlib.lines.Line2D at 0x7fb6177519b0>]"
      ]
     },
     "execution_count": 5,
     "metadata": {},
     "output_type": "execute_result"
    },
    {
     "data": {
      "image/png": "[encoded data removed]",
      "text/plain": [
       "<Figure size 432x288 with 1 Axes>"
      ]
     },
     "metadata": {
      "needs_background": "light"
     },
     "output_type": "display_data"
    }
   ],
   "source": [
    "# plot the losses as function of training\n",
    "plt.plot(losses)"
   ]
  },
  {
   "cell_type": "markdown",
   "metadata": {},
   "source": [
    " ### Repeat the training with a NN with [2,1] architechture"
   ]
  },
  {
   "cell_type": "code",
   "execution_count": 6,
   "metadata": {},
   "outputs": [
    {
     "name": "stdout",
     "output_type": "stream",
     "text": [
      "<bound method NeuralNetwork.__repr__ of NN architecture: 2-1>\n",
      "[Training: ] epoch= 1 , loss= 0.6053166289925558\n",
      "[Training: ] epoch= 100 , loss= 0.5015301016999849\n",
      "[Training: ] epoch= 200 , loss= 0.5007027720929978\n",
      "[Training: ] epoch= 300 , loss= 0.5007762885343341\n",
      "[Training: ] epoch= 400 , loss= 0.5007909988440713\n",
      "[Training: ] epoch= 500 , loss= 0.5007933883534155\n",
      "[Training: ] epoch= 600 , loss= 0.500793761446124\n",
      "[Training: ] epoch= 700 , loss= 0.5007938190808985\n",
      "[Training: ] epoch= 800 , loss= 0.500793827955839\n",
      "[Training: ] epoch= 900 , loss= 0.5007938293210925\n",
      "[Training: ] epoch= 1000 , loss= 0.5007938295310458\n",
      "[Training: ] epoch= 1100 , loss= 0.50079382956333\n",
      "[Training: ] epoch= 1200 , loss= 0.500793829568294\n",
      "[Training: ] epoch= 1300 , loss= 0.5007938295690574\n",
      "[Training: ] epoch= 1400 , loss= 0.5007938295691747\n",
      "[Training: ] epoch= 1500 , loss= 0.5007938295691927\n",
      "[Training: ] epoch= 1600 , loss= 0.5007938295691955\n",
      "[Training: ] epoch= 1700 , loss= 0.5007938295691959\n",
      "[Training: ] epoch= 1800 , loss= 0.5007938295691958\n",
      "[Training: ] epoch= 1900 , loss= 0.500793829569196\n",
      "[Training: ] epoch= 2000 , loss= 0.500793829569196\n",
      "[Training: ] epoch= 2100 , loss= 0.500793829569196\n",
      "[Training: ] epoch= 2200 , loss= 0.500793829569196\n",
      "[Training: ] epoch= 2300 , loss= 0.500793829569196\n",
      "[Training: ] epoch= 2400 , loss= 0.500793829569196\n",
      "[Training: ] epoch= 2500 , loss= 0.500793829569196\n",
      "[Training: ] epoch= 2600 , loss= 0.500793829569196\n",
      "[Training: ] epoch= 2700 , loss= 0.500793829569196\n",
      "[Training: ] epoch= 2800 , loss= 0.500793829569196\n",
      "[Training: ] epoch= 2900 , loss= 0.500793829569196\n",
      "[Training: ] epoch= 3000 , loss= 0.500793829569196\n",
      "[Training: ] epoch= 3100 , loss= 0.500793829569196\n",
      "[Training: ] epoch= 3200 , loss= 0.500793829569196\n",
      "[Training: ] epoch= 3300 , loss= 0.500793829569196\n",
      "[Training: ] epoch= 3400 , loss= 0.500793829569196\n",
      "[Training: ] epoch= 3500 , loss= 0.500793829569196\n",
      "[Training: ] epoch= 3600 , loss= 0.500793829569196\n",
      "[Training: ] epoch= 3700 , loss= 0.500793829569196\n",
      "[Training: ] epoch= 3800 , loss= 0.500793829569196\n",
      "[Training: ] epoch= 3900 , loss= 0.500793829569196\n",
      "[Training: ] epoch= 4000 , loss= 0.500793829569196\n",
      "[Training: ] epoch= 4100 , loss= 0.500793829569196\n",
      "[Training: ] epoch= 4200 , loss= 0.500793829569196\n",
      "[Training: ] epoch= 4300 , loss= 0.500793829569196\n",
      "[Training: ] epoch= 4400 , loss= 0.500793829569196\n",
      "[Training: ] epoch= 4500 , loss= 0.500793829569196\n",
      "[Training: ] epoch= 4600 , loss= 0.500793829569196\n",
      "[Training: ] epoch= 4700 , loss= 0.500793829569196\n",
      "[Training: ] epoch= 4800 , loss= 0.500793829569196\n",
      "[Training: ] epoch= 4900 , loss= 0.500793829569196\n",
      "[Training: ] epoch= 5000 , loss= 0.500793829569196\n",
      "[Training: ] epoch= 5100 , loss= 0.500793829569196\n",
      "[Training: ] epoch= 5200 , loss= 0.500793829569196\n",
      "[Training: ] epoch= 5300 , loss= 0.500793829569196\n",
      "[Training: ] epoch= 5400 , loss= 0.500793829569196\n",
      "[Training: ] epoch= 5500 , loss= 0.500793829569196\n",
      "[Training: ] epoch= 5600 , loss= 0.500793829569196\n",
      "[Training: ] epoch= 5700 , loss= 0.500793829569196\n",
      "[Training: ] epoch= 5800 , loss= 0.500793829569196\n",
      "[Training: ] epoch= 5900 , loss= 0.500793829569196\n",
      "[Training: ] epoch= 6000 , loss= 0.500793829569196\n",
      "[Training: ] epoch= 6100 , loss= 0.500793829569196\n",
      "[Training: ] epoch= 6200 , loss= 0.500793829569196\n",
      "[Training: ] epoch= 6300 , loss= 0.500793829569196\n",
      "[Training: ] epoch= 6400 , loss= 0.500793829569196\n",
      "[Training: ] epoch= 6500 , loss= 0.500793829569196\n",
      "[Training: ] epoch= 6600 , loss= 0.500793829569196\n",
      "[Training: ] epoch= 6700 , loss= 0.500793829569196\n",
      "[Training: ] epoch= 6800 , loss= 0.500793829569196\n",
      "[Training: ] epoch= 6900 , loss= 0.500793829569196\n",
      "[Training: ] epoch= 7000 , loss= 0.500793829569196\n",
      "[Training: ] epoch= 7100 , loss= 0.500793829569196\n",
      "[Training: ] epoch= 7200 , loss= 0.500793829569196\n",
      "[Training: ] epoch= 7300 , loss= 0.500793829569196\n",
      "[Training: ] epoch= 7400 , loss= 0.500793829569196\n",
      "[Training: ] epoch= 7500 , loss= 0.500793829569196\n",
      "[Training: ] epoch= 7600 , loss= 0.500793829569196\n",
      "[Training: ] epoch= 7700 , loss= 0.500793829569196\n",
      "[Training: ] epoch= 7800 , loss= 0.500793829569196\n",
      "[Training: ] epoch= 7900 , loss= 0.500793829569196\n",
      "[Training: ] epoch= 8000 , loss= 0.500793829569196\n",
      "[Training: ] epoch= 8100 , loss= 0.500793829569196\n",
      "[Training: ] epoch= 8200 , loss= 0.500793829569196\n",
      "[Training: ] epoch= 8300 , loss= 0.500793829569196\n",
      "[Training: ] epoch= 8400 , loss= 0.500793829569196\n",
      "[Training: ] epoch= 8500 , loss= 0.500793829569196\n",
      "[Training: ] epoch= 8600 , loss= 0.500793829569196\n",
      "[Training: ] epoch= 8700 , loss= 0.500793829569196\n",
      "[Training: ] epoch= 8800 , loss= 0.500793829569196\n",
      "[Training: ] epoch= 8900 , loss= 0.500793829569196\n",
      "[Training: ] epoch= 9000 , loss= 0.500793829569196\n",
      "[Training: ] epoch= 9100 , loss= 0.500793829569196\n",
      "[Training: ] epoch= 9200 , loss= 0.500793829569196\n",
      "[Training: ] epoch= 9300 , loss= 0.500793829569196\n",
      "[Training: ] epoch= 9400 , loss= 0.500793829569196\n",
      "[Training: ] epoch= 9500 , loss= 0.500793829569196\n",
      "[Training: ] epoch= 9600 , loss= 0.500793829569196\n",
      "[Training: ] epoch= 9700 , loss= 0.500793829569196\n",
      "[Training: ] epoch= 9800 , loss= 0.500793829569196\n",
      "[Training: ] epoch= 9900 , loss= 0.500793829569196\n",
      "[Training: ] epoch= 10000 , loss= 0.500793829569196\n"
     ]
    }
   ],
   "source": [
    "### ENTER YOUR CODE HERE\n",
    "nn = NeuralNetwork([2, 1], alpha=0.5)\n",
    "print(nn.__repr__)\n",
    "# fit the Neural Network\n",
    "losses=nn.fit(X,y,10000)"
   ]
  },
  {
   "cell_type": "code",
   "execution_count": 7,
   "metadata": {},
   "outputs": [
    {
     "name": "stdout",
     "output_type": "stream",
     "text": [
      "data= [0 0] , ground-truth= [0] , pred=, [[0.516106]]  step= 1\n",
      "data= [0 1] , ground-truth= [1] , pred=, [[0.5]]  step= 0\n",
      "data= [1 0] , ground-truth= [1] , pred=, [[0.483894]]  step= 0\n",
      "data= [1 1] , ground-truth= [0] , pred=, [[0.46782138]]  step= 0\n"
     ]
    }
   ],
   "source": [
    "# now that our network is trained, loop over the XOR data points\n",
    "for (x, target) in zip(X, y):\n",
    "    # make a prediction on the data point and display the result\n",
    "    # to our console\n",
    "    pred = nn.predict(x,addBias=True)\n",
    "    step = 1 if pred > 0.5 else 0\n",
    "    print(\"data=\",x,\", ground-truth=\",target,\", pred=,\",pred,\" step=\",step)"
   ]
  },
  {
   "cell_type": "markdown",
   "metadata": {},
   "source": [
    "### Classification Problem"
   ]
  },
  {
   "cell_type": "code",
   "execution_count": 8,
   "metadata": {},
   "outputs": [],
   "source": [
    "from sklearn.preprocessing import LabelBinarizer\n",
    "from sklearn.model_selection import train_test_split\n",
    "from sklearn.metrics import classification_report\n",
    "from sklearn import datasets"
   ]
  },
  {
   "cell_type": "code",
   "execution_count": 9,
   "metadata": {},
   "outputs": [
    {
     "name": "stdout",
     "output_type": "stream",
     "text": [
      "loading MNIST (sample) dataset...\n",
      "samples: 1797, dim: 64\n"
     ]
    }
   ],
   "source": [
    "# load the MNIST dataset and apply min/max scaling to scale the\n",
    "# pixel intensity values to the range [0, 1] (each image is\n",
    "# represented by an 8 x 8 = 64-dim feature vector)\n",
    "print(\"loading MNIST (sample) dataset...\")\n",
    "digits = datasets.load_digits()\n",
    "data = digits.data.astype(\"float\")\n",
    "data = (data - data.min()) / (data.max() - data.min())\n",
    "print(\"samples: {}, dim: {}\".format(data.shape[0],\n",
    "data.shape[1]))\n",
    "# construct the training and testing splits\n",
    "(trainX, testX, trainY, testY) = train_test_split(data,\n",
    "digits.target, test_size=0.25)\n",
    "# convert the labels from integers to vectors:1 = [0,1,0,0,0,0,0,0,0,0]\n",
    "lb=LabelBinarizer()\n",
    "trainY = LabelBinarizer().fit_transform(trainY)\n",
    "testY = lb.fit_transform(testY)"
   ]
  },
  {
   "cell_type": "code",
   "execution_count": 10,
   "metadata": {},
   "outputs": [
    {
     "data": {
      "image/png": "[encoded data removed]",
      "text/plain": [
       "<Figure size 432x288 with 4 Axes>"
      ]
     },
     "metadata": {
      "needs_background": "light"
     },
     "output_type": "display_data"
    }
   ],
   "source": [
    "for i in range(1,5):\n",
    "    plt.subplot(1,4,i)\n",
    "    plt.imshow(np.array(data[i]).reshape(8,8),cmap='gray')"
   ]
  },
  {
   "cell_type": "code",
   "execution_count": 11,
   "metadata": {},
   "outputs": [
    {
     "name": "stdout",
     "output_type": "stream",
     "text": [
      "training network...\n",
      "NN architecture: 64-32-16-10\n",
      "[Training: ] epoch= 1 , loss= 592.147819885084\n",
      "[Training: ] epoch= 100 , loss= 0.25707233937521035\n",
      "[Training: ] epoch= 200 , loss= 0.10227226367267982\n",
      "[Training: ] epoch= 300 , loss= 0.06385918994539977\n",
      "[Training: ] epoch= 400 , loss= 0.04610991486131611\n",
      "[Training: ] epoch= 500 , loss= 0.03590714226929036\n",
      "[Training: ] epoch= 600 , loss= 0.029300882263353433\n",
      "[Training: ] epoch= 700 , loss= 0.024686656306518444\n",
      "[Training: ] epoch= 800 , loss= 0.021289272455920695\n",
      "[Training: ] epoch= 900 , loss= 0.018688388143618208\n",
      "[Training: ] epoch= 1000 , loss= 0.016636436431943548\n",
      "[Training: ] epoch= 1100 , loss= 0.014978257242173824\n",
      "[Training: ] epoch= 1200 , loss= 0.01361176828160395\n",
      "[Training: ] epoch= 1300 , loss= 0.01246713170976064\n",
      "[Training: ] epoch= 1400 , loss= 0.011495004375917637\n",
      "[Training: ] epoch= 1500 , loss= 0.01065956578046117\n",
      "evaluating network...\n",
      "              precision    recall  f1-score   support\n",
      "\n",
      "           0       1.00      1.00      1.00        49\n",
      "           1       0.97      1.00      0.99        39\n",
      "           2       0.98      0.98      0.98        63\n",
      "           3       0.97      0.97      0.97        39\n",
      "           4       1.00      1.00      1.00        47\n",
      "           5       1.00      0.95      0.97        37\n",
      "           6       1.00      1.00      1.00        52\n",
      "           7       0.98      0.98      0.98        42\n",
      "           8       0.95      1.00      0.97        37\n",
      "           9       0.98      0.96      0.97        45\n",
      "\n",
      "    accuracy                           0.98       450\n",
      "   macro avg       0.98      0.98      0.98       450\n",
      "weighted avg       0.98      0.98      0.98       450\n",
      "\n"
     ]
    }
   ],
   "source": [
    "# train the network\n",
    "print(\"training network...\")\n",
    "#create a network object with two hidden layer h1 = 32 units and h2 = 16 units\n",
    "# ENTER YOUR CODE HERE\n",
    "nn = NeuralNetwork([64,32,16, 10], alpha=0.5) \n",
    "print(\"{}\".format(nn))\n",
    "losses2 = nn.fit(trainX, trainY, epochs=1500)\n",
    "# evaluate the network\n",
    "print(\"evaluating network...\")\n",
    "predictions = nn.predict(testX,addBias=True)\n",
    "predictions = predictions.argmax(axis=1)\n",
    "print(classification_report(testY.argmax(axis=1), predictions))"
   ]
  },
  {
   "cell_type": "code",
   "execution_count": 12,
   "metadata": {},
   "outputs": [],
   "source": [
    "testY=lb.inverse_transform(testY)"
   ]
  },
  {
   "cell_type": "code",
   "execution_count": 13,
   "metadata": {},
   "outputs": [
    {
     "data": {
      "text/plain": [
       "<matplotlib.collections.PathCollection at 0x7fb5d2f2e710>"
      ]
     },
     "execution_count": 13,
     "metadata": {},
     "output_type": "execute_result"
    },
    {
     "data": {
      "image/png": "[encoded data removed]",
      "text/plain": [
       "<Figure size 432x288 with 1 Axes>"
      ]
     },
     "metadata": {
      "needs_background": "light"
     },
     "output_type": "display_data"
    }
   ],
   "source": [
    "\n",
    "plt.scatter(np.arange(len(predictions)),testY-predictions)"
   ]
  },
  {
   "cell_type": "code",
   "execution_count": 14,
   "metadata": {},
   "outputs": [
    {
     "data": {
      "text/plain": [
       "[<matplotlib.lines.Line2D at 0x7fb5d2f15f28>]"
      ]
     },
     "execution_count": 14,
     "metadata": {},
     "output_type": "execute_result"
    },
    {
     "data": {
      "image/png": "[encoded data removed]",
      "text/plain": [
       "<Figure size 432x288 with 1 Axes>"
      ]
     },
     "metadata": {
      "needs_background": "light"
     },
     "output_type": "display_data"
    }
   ],
   "source": [
    "plt.plot(np.concatenate(([0], np.arange(1,1500,100))),losses2)"
   ]
  },
  {
   "cell_type": "code",
   "execution_count": 15,
   "metadata": {},
   "outputs": [
    {
     "data": {
      "image/png": "[encoded data removed]",
      "text/plain": [
       "<Figure size 432x288 with 1 Axes>"
      ]
     },
     "metadata": {
      "needs_background": "light"
     },
     "output_type": "display_data"
    }
   ],
   "source": [
    "import sklearn.datasets\n",
    "#  load a classification dataset from sklearn\n",
    "X, Y = sklearn.datasets.make_moons(200, noise=0.150)\n",
    "plt.scatter(X[:,0], X[:,1], s=42, c=Y, cmap=plt.cm.Set1)\n",
    "y=Y.reshape(-1,1)"
   ]
  },
  {
   "cell_type": "code",
   "execution_count": 16,
   "metadata": {},
   "outputs": [
    {
     "data": {
      "text/plain": [
       "(200, 2)"
      ]
     },
     "execution_count": 16,
     "metadata": {},
     "output_type": "execute_result"
    }
   ],
   "source": [
    "y=np.concatenate((y,np.logical_not(y).astype('int')),axis=1)\n",
    "y.shape"
   ]
  },
  {
   "cell_type": "code",
   "execution_count": 17,
   "metadata": {},
   "outputs": [
    {
     "name": "stdout",
     "output_type": "stream",
     "text": [
      "[Training: ] epoch= 1 , loss= 52.63320886358625\n",
      "[Training: ] epoch= 100 , loss= 19.31755157211269\n",
      "[Training: ] epoch= 200 , loss= 16.312462761819546\n",
      "[Training: ] epoch= 300 , loss= 15.719565893941773\n",
      "[Training: ] epoch= 400 , loss= 15.538686895750931\n",
      "[Training: ] epoch= 500 , loss= 15.460392222534209\n",
      "[Training: ] epoch= 600 , loss= 15.416226528236514\n",
      "[Training: ] epoch= 700 , loss= 15.385747773491348\n",
      "[Training: ] epoch= 800 , loss= 15.361666029176835\n",
      "[Training: ] epoch= 900 , loss= 15.341178466421578\n",
      "[Training: ] epoch= 1000 , loss= 15.323134016698003\n",
      "[Training: ] epoch= 1100 , loss= 15.306979865939127\n",
      "[Training: ] epoch= 1200 , loss= 15.292376221205803\n",
      "[Training: ] epoch= 1300 , loss= 15.279069038749054\n",
      "[Training: ] epoch= 1400 , loss= 15.266852917733434\n",
      "[Training: ] epoch= 1500 , loss= 15.255559851920491\n",
      "[Training: ] epoch= 1600 , loss= 15.245053298313106\n",
      "[Training: ] epoch= 1700 , loss= 15.235222859930563\n",
      "[Training: ] epoch= 1800 , loss= 15.225979241095933\n",
      "[Training: ] epoch= 1900 , loss= 15.217249785165912\n",
      "[Training: ] epoch= 2000 , loss= 15.20897475036498\n",
      "[Training: ] epoch= 2100 , loss= 15.201104308622579\n",
      "[Training: ] epoch= 2200 , loss= 15.193596174473281\n",
      "[Training: ] epoch= 2300 , loss= 15.186413752786294\n",
      "[Training: ] epoch= 2400 , loss= 15.179524700475266\n",
      "[Training: ] epoch= 2500 , loss= 15.172899810542429\n",
      "[Training: ] epoch= 2600 , loss= 15.166512139945947\n",
      "[Training: ] epoch= 2700 , loss= 15.160336313828932\n",
      "[Training: ] epoch= 2800 , loss= 15.154347947267926\n",
      "[Training: ] epoch= 2900 , loss= 15.14852313187961\n",
      "[Training: ] epoch= 3000 , loss= 15.142837938220332\n",
      "[Training: ] epoch= 3100 , loss= 15.137267885487866\n",
      "[Training: ] epoch= 3200 , loss= 15.131787326783648\n",
      "[Training: ] epoch= 3300 , loss= 15.126368689833498\n",
      "[Training: ] epoch= 3400 , loss= 15.120981497618533\n",
      "[Training: ] epoch= 3500 , loss= 15.115591067789794\n",
      "[Training: ] epoch= 3600 , loss= 15.110156749295129\n",
      "[Training: ] epoch= 3700 , loss= 15.104629491909762\n",
      "[Training: ] epoch= 3800 , loss= 15.09894844762237\n",
      "[Training: ] epoch= 3900 , loss= 15.093036153590193\n",
      "[Training: ] epoch= 4000 , loss= 15.086791615508687\n",
      "[Training: ] epoch= 4100 , loss= 15.080080252346754\n",
      "[Training: ] epoch= 4200 , loss= 15.072719109382348\n",
      "[Training: ] epoch= 4300 , loss= 15.064454896209549\n",
      "[Training: ] epoch= 4400 , loss= 15.054931129505782\n",
      "[Training: ] epoch= 4500 , loss= 15.043638830334958\n",
      "[Training: ] epoch= 4600 , loss= 15.029842855757508\n",
      "[Training: ] epoch= 4700 , loss= 15.012473587937537\n",
      "[Training: ] epoch= 4800 , loss= 14.98997344169673\n",
      "[Training: ] epoch= 4900 , loss= 14.960095059619341\n",
      "[Training: ] epoch= 5000 , loss= 14.91967469959394\n",
      "[Training: ] epoch= 5100 , loss= 14.86446599551699\n",
      "[Training: ] epoch= 5200 , loss= 14.789215244987096\n",
      "[Training: ] epoch= 5300 , loss= 14.688215557973297\n",
      "[Training: ] epoch= 5400 , loss= 14.556402463504307\n",
      "[Training: ] epoch= 5500 , loss= 14.390506396407456\n",
      "[Training: ] epoch= 5600 , loss= 14.189205222986832\n",
      "[Training: ] epoch= 5700 , loss= 13.951486830780077\n",
      "[Training: ] epoch= 5800 , loss= 13.673945893100882\n",
      "[Training: ] epoch= 5900 , loss= 13.349588000864388\n",
      "[Training: ] epoch= 6000 , loss= 12.968971988596966\n",
      "[Training: ] epoch= 6100 , loss= 12.513575156725746\n",
      "[Training: ] epoch= 6200 , loss= 11.929522423379453\n",
      "[Training: ] epoch= 6300 , loss= 11.1030862084506\n",
      "[Training: ] epoch= 6400 , loss= 9.940159578506876\n",
      "[Training: ] epoch= 6500 , loss= 8.582554963377746\n",
      "[Training: ] epoch= 6600 , loss= 7.3323020724001085\n",
      "[Training: ] epoch= 6700 , loss= 6.328406939270981\n",
      "[Training: ] epoch= 6800 , loss= 5.54723095536208\n",
      "[Training: ] epoch= 6900 , loss= 4.932003996856087\n",
      "[Training: ] epoch= 7000 , loss= 4.437466984228522\n",
      "[Training: ] epoch= 7100 , loss= 4.032084650167504\n",
      "[Training: ] epoch= 7200 , loss= 3.693955070435119\n",
      "[Training: ] epoch= 7300 , loss= 3.40758353875027\n",
      "[Training: ] epoch= 7400 , loss= 3.1618079474114187\n",
      "[Training: ] epoch= 7500 , loss= 2.9484520230173517\n",
      "[Training: ] epoch= 7600 , loss= 2.7614230403654068\n",
      "[Training: ] epoch= 7700 , loss= 2.5960976804991787\n",
      "[Training: ] epoch= 7800 , loss= 2.4489021613357314\n",
      "[Training: ] epoch= 7900 , loss= 2.3170243491345657\n",
      "[Training: ] epoch= 8000 , loss= 2.1982150206324182\n",
      "[Training: ] epoch= 8100 , loss= 2.090649021933932\n",
      "[Training: ] epoch= 8200 , loss= 1.9928266879493244\n",
      "[Training: ] epoch= 8300 , loss= 1.9035025192377923\n",
      "[Training: ] epoch= 8400 , loss= 1.8216325531484774\n",
      "[Training: ] epoch= 8500 , loss= 1.7463347761389403\n",
      "[Training: ] epoch= 8600 , loss= 1.6768588108265774\n",
      "[Training: ] epoch= 8700 , loss= 1.6125623323421157\n",
      "[Training: ] epoch= 8800 , loss= 1.5528924631054681\n",
      "[Training: ] epoch= 8900 , loss= 1.4973709179519303\n",
      "[Training: ] epoch= 9000 , loss= 1.4455820208172654\n",
      "[Training: ] epoch= 9100 , loss= 1.3971629517743283\n",
      "[Training: ] epoch= 9200 , loss= 1.3517957479924811\n",
      "[Training: ] epoch= 9300 , loss= 1.30920069876561\n",
      "[Training: ] epoch= 9400 , loss= 1.269130858828398\n",
      "[Training: ] epoch= 9500 , loss= 1.2313674659187945\n",
      "[Training: ] epoch= 9600 , loss= 1.1957160946326408\n",
      "[Training: ] epoch= 9700 , loss= 1.1620034135263717\n",
      "[Training: ] epoch= 9800 , loss= 1.1300744392089346\n",
      "[Training: ] epoch= 9900 , loss= 1.0997902019459151\n",
      "[Training: ] epoch= 10000 , loss= 1.0710257535792103\n"
     ]
    }
   ],
   "source": [
    "nn = NeuralNetwork([2, 3,2], alpha=0.01)\n",
    "losses3 = nn.fit(X, y, epochs=10000)"
   ]
  },
  {
   "cell_type": "code",
   "execution_count": 18,
   "metadata": {},
   "outputs": [
    {
     "data": {
      "text/plain": [
       "<matplotlib.collections.PathCollection at 0x7fb5d2db9f60>"
      ]
     },
     "execution_count": 18,
     "metadata": {},
     "output_type": "execute_result"
    },
    {
     "data": {
      "image/png": "[encoded data removed]",
      "text/plain": [
       "<Figure size 432x288 with 1 Axes>"
      ]
     },
     "metadata": {
      "needs_background": "light"
     },
     "output_type": "display_data"
    }
   ],
   "source": [
    "# Set min and max values and give it some padding\n",
    "x_min, x_max = X[:, 0].min() - .5, X[:, 0].max() + .5\n",
    "y_min, y_max = X[:, 1].min() - .5, X[:, 1].max() + .5\n",
    "h = 0.01\n",
    "# Generate a grid of points with distance h between them\n",
    "xx, yy = np.meshgrid(np.arange(x_min, x_max, h), np.arange(y_min, y_max, h))\n",
    "# Predict the function value for the whole gid\n",
    "Z = nn.predict(np.c_[xx.ravel(), yy.ravel()],addBias=True)\n",
    "\n",
    "# Plot the contour and training examples\n",
    "plt.contourf(xx, yy, Z[:,1].reshape(xx.shape), cmap=plt.cm.Set1, alpha=0.2)\n",
    "plt.scatter(X[:, 0], X[:, 1], c=Y, cmap=plt.cm.Set1)"
   ]
  },
  {
   "cell_type": "markdown",
   "metadata": {},
   "source": [
    "### try different NN architecutres and see how performance chages"
   ]
  },
  {
   "cell_type": "markdown",
   "metadata": {},
   "source": [
    "### Regression Problem"
   ]
  },
  {
   "cell_type": "code",
   "execution_count": 19,
   "metadata": {},
   "outputs": [],
   "source": [
    "X = np.random.uniform(-1, 1, size=1000)\n",
    "\n",
    "y= np.power(X,2)+ np.random.normal(0, 1, size=X.shape[0]) * 0.2\n",
    "X = X.reshape(-1,1)\n",
    "y = y.reshape(-1,1)"
   ]
  },
  {
   "cell_type": "code",
   "execution_count": 20,
   "metadata": {},
   "outputs": [
    {
     "data": {
      "text/plain": [
       "<matplotlib.collections.PathCollection at 0x7fb5d1297b00>"
      ]
     },
     "execution_count": 20,
     "metadata": {},
     "output_type": "execute_result"
    },
    {
     "data": {
      "image/png": "[encoded data removed]",
      "text/plain": [
       "<Figure size 432x288 with 1 Axes>"
      ]
     },
     "metadata": {
      "needs_background": "light"
     },
     "output_type": "display_data"
    }
   ],
   "source": [
    "plt.scatter(X,y)"
   ]
  },
  {
   "cell_type": "code",
   "execution_count": 21,
   "metadata": {},
   "outputs": [
    {
     "name": "stdout",
     "output_type": "stream",
     "text": [
      "[Training: ] epoch= 1 , loss= 63.67688238902866\n",
      "[Training: ] epoch= 100 , loss= 62.69704200631217\n",
      "[Training: ] epoch= 200 , loss= 56.54651003497134\n",
      "[Training: ] epoch= 300 , loss= 39.44953042756157\n",
      "[Training: ] epoch= 400 , loss= 24.152627910201026\n",
      "[Training: ] epoch= 500 , loss= 21.961720858146222\n",
      "[Training: ] epoch= 600 , loss= 21.47219177609012\n",
      "[Training: ] epoch= 700 , loss= 21.28965568544669\n",
      "[Training: ] epoch= 800 , loss= 21.193634710289004\n",
      "[Training: ] epoch= 900 , loss= 21.13257008669197\n",
      "[Training: ] epoch= 1000 , loss= 21.089851335348484\n",
      "[Training: ] epoch= 1100 , loss= 21.058305229030083\n",
      "[Training: ] epoch= 1200 , loss= 21.034119892108286\n",
      "[Training: ] epoch= 1300 , loss= 21.015006436909594\n",
      "[Training: ] epoch= 1400 , loss= 20.99949068995096\n",
      "[Training: ] epoch= 1500 , loss= 20.986583012277368\n",
      "[Training: ] epoch= 1600 , loss= 20.975601744235796\n",
      "[Training: ] epoch= 1700 , loss= 20.966069206654485\n",
      "[Training: ] epoch= 1800 , loss= 20.957646279918993\n",
      "[Training: ] epoch= 1900 , loss= 20.950089458950988\n",
      "[Training: ] epoch= 2000 , loss= 20.943221902923945\n",
      "[Training: ] epoch= 2100 , loss= 20.936913602362658\n",
      "[Training: ] epoch= 2200 , loss= 20.93106766162832\n",
      "[Training: ] epoch= 2300 , loss= 20.925610756849988\n",
      "[Training: ] epoch= 2400 , loss= 20.920486474042043\n",
      "[Training: ] epoch= 2500 , loss= 20.915650644584368\n",
      "[Training: ] epoch= 2600 , loss= 20.911068069063134\n",
      "[Training: ] epoch= 2700 , loss= 20.90671020677003\n",
      "[Training: ] epoch= 2800 , loss= 20.902553536820243\n",
      "[Training: ] epoch= 2900 , loss= 20.898578386427104\n",
      "[Training: ] epoch= 3000 , loss= 20.894768084429952\n",
      "[Training: ] epoch= 3100 , loss= 20.891108341844703\n",
      "[Training: ] epoch= 3200 , loss= 20.887586791612563\n",
      "[Training: ] epoch= 3300 , loss= 20.88419264080199\n",
      "[Training: ] epoch= 3400 , loss= 20.88091640306246\n",
      "[Training: ] epoch= 3500 , loss= 20.87774968911161\n",
      "[Training: ] epoch= 3600 , loss= 20.874685039862033\n",
      "[Training: ] epoch= 3700 , loss= 20.871715791442973\n",
      "[Training: ] epoch= 3800 , loss= 20.868835964536522\n",
      "[Training: ] epoch= 3900 , loss= 20.866040172603373\n",
      "[Training: ] epoch= 4000 , loss= 20.86332354504791\n",
      "[Training: ] epoch= 4100 , loss= 20.860681662389702\n",
      "[Training: ] epoch= 4200 , loss= 20.858110501218142\n",
      "[Training: ] epoch= 4300 , loss= 20.855606387209846\n",
      "[Training: ] epoch= 4400 , loss= 20.853165954852614\n",
      "[Training: ] epoch= 4500 , loss= 20.85078611278773\n",
      "[Training: ] epoch= 4600 , loss= 20.84846401388542\n",
      "[Training: ] epoch= 4700 , loss= 20.846197029325193\n",
      "[Training: ] epoch= 4800 , loss= 20.843982726076042\n",
      "[Training: ] epoch= 4900 , loss= 20.84181884727086\n",
      "[Training: ] epoch= 5000 , loss= 20.839703295050107\n",
      "[Training: ] epoch= 5100 , loss= 20.837634115516618\n",
      "[Training: ] epoch= 5200 , loss= 20.835609485498484\n",
      "[Training: ] epoch= 5300 , loss= 20.83362770086356\n",
      "[Training: ] epoch= 5400 , loss= 20.831687166168063\n",
      "[Training: ] epoch= 5500 , loss= 20.82978638545466\n",
      "[Training: ] epoch= 5600 , loss= 20.82792395404316\n",
      "[Training: ] epoch= 5700 , loss= 20.826098551180614\n",
      "[Training: ] epoch= 5800 , loss= 20.824308933437393\n",
      "[Training: ] epoch= 5900 , loss= 20.82255392875294\n",
      "[Training: ] epoch= 6000 , loss= 20.82083243104894\n",
      "[Training: ] epoch= 6100 , loss= 20.81914339534012\n",
      "[Training: ] epoch= 6200 , loss= 20.817485833282625\n",
      "[Training: ] epoch= 6300 , loss= 20.815858809109347\n",
      "[Training: ] epoch= 6400 , loss= 20.81426143590817\n",
      "[Training: ] epoch= 6500 , loss= 20.812692872205883\n",
      "[Training: ] epoch= 6600 , loss= 20.811152318825417\n",
      "[Training: ] epoch= 6700 , loss= 20.80963901598859\n",
      "[Training: ] epoch= 6800 , loss= 20.80815224064036\n",
      "[Training: ] epoch= 6900 , loss= 20.806691303973672\n",
      "[Training: ] epoch= 7000 , loss= 20.80525554913644\n",
      "[Training: ] epoch= 7100 , loss= 20.803844349105002\n",
      "[Training: ] epoch= 7200 , loss= 20.80245710470955\n",
      "[Training: ] epoch= 7300 , loss= 20.801093242799197\n",
      "[Training: ] epoch= 7400 , loss= 20.79975221453562\n",
      "[Training: ] epoch= 7500 , loss= 20.798433493804904\n",
      "[Training: ] epoch= 7600 , loss= 20.797136575738985\n",
      "[Training: ] epoch= 7700 , loss= 20.795860975338154\n",
      "[Training: ] epoch= 7800 , loss= 20.794606226187387\n",
      "[Training: ] epoch= 7900 , loss= 20.793371879259418\n",
      "[Training: ] epoch= 8000 , loss= 20.792157501798567\n",
      "[Training: ] epoch= 8100 , loss= 20.79096267627918\n",
      "[Training: ] epoch= 8200 , loss= 20.789786999433574\n",
      "[Training: ] epoch= 8300 , loss= 20.788630081344202\n",
      "[Training: ] epoch= 8400 , loss= 20.787491544595674\n",
      "[Training: ] epoch= 8500 , loss= 20.786371023481916\n",
      "[Training: ] epoch= 8600 , loss= 20.785268163264753\n",
      "[Training: ] epoch= 8700 , loss= 20.78418261947982\n",
      "[Training: ] epoch= 8800 , loss= 20.78311405728634\n",
      "[Training: ] epoch= 8900 , loss= 20.782062150857378\n",
      "[Training: ] epoch= 9000 , loss= 20.78102658280748\n",
      "[Training: ] epoch= 9100 , loss= 20.78000704365474\n",
      "[Training: ] epoch= 9200 , loss= 20.779003231314395\n",
      "[Training: ] epoch= 9300 , loss= 20.778014850621446\n",
      "[Training: ] epoch= 9400 , loss= 20.777041612879984\n",
      "[Training: ] epoch= 9500 , loss= 20.77608323543663\n",
      "[Training: ] epoch= 9600 , loss= 20.775139441276217\n",
      "[Training: ] epoch= 9700 , loss= 20.774209958637535\n",
      "[Training: ] epoch= 9800 , loss= 20.773294520647248\n",
      "[Training: ] epoch= 9900 , loss= 20.772392864970207\n",
      "[Training: ] epoch= 10000 , loss= 20.771504733474558\n"
     ]
    }
   ],
   "source": [
    "nn = NeuralNetwork([1, 6,1], alpha=0.01)\n",
    "losses4 = nn.fit(X, y, epochs=10000)"
   ]
  },
  {
   "cell_type": "code",
   "execution_count": 22,
   "metadata": {},
   "outputs": [
    {
     "data": {
      "text/plain": [
       "[<matplotlib.lines.Line2D at 0x7fb5d1210278>]"
      ]
     },
     "execution_count": 22,
     "metadata": {},
     "output_type": "execute_result"
    },
    {
     "data": {
      "image/png": "[encoded data removed]",
      "text/plain": [
       "<Figure size 432x288 with 1 Axes>"
      ]
     },
     "metadata": {
      "needs_background": "light"
     },
     "output_type": "display_data"
    }
   ],
   "source": [
    "plt.plot(losses4)"
   ]
  },
  {
   "cell_type": "markdown",
   "metadata": {},
   "source": [
    "### try different NN architecutres and see how performance chages \n",
    "### try different learning rates and see if you can improve the results"
   ]
  },
  {
   "cell_type": "markdown",
   "metadata": {},
   "source": [
    "### Change the Neuralnetwrok class such that you use the momentum rule for weights update. retrain the MNIST dataset.  How did the training go? are the losses smaller is the accuracy the same? what does it mean?"
   ]
  },
  {
   "cell_type": "code",
   "execution_count": 99,
   "metadata": {},
   "outputs": [],
   "source": [
    "class NeuralNetwork:\n",
    "    def __init__(self, layers, alpha=0.1, gamma=0.9):\n",
    "    # initialize the list of weights matrices, then store the\n",
    "    # network architecture and learning rate\n",
    "        self.W = []\n",
    "        self.V = []\n",
    "        self.layers = layers\n",
    "        self.alpha = alpha\n",
    "        self.gamma = gamma\n",
    "        # start looping from the index of the first layer but\n",
    "        # stop before we reach the last two layers\n",
    "        for i in np.arange(0, len(layers) - 2):\n",
    "            # randomly initialize a weight matrix connecting the\n",
    "            # number of nodes in each respective layer together,\n",
    "            # adding an extra node for the bias\n",
    "            w = np.random.randn(layers[i] + 1, layers[i + 1] + 1)\n",
    "            v = np.zeros((layers[i]+1,layers[i + 1] + 1))\n",
    "            self.W.append(w / np.sqrt(layers[i]))\n",
    "            self.V.append(v)\n",
    "        # the last two layers are a special case where the input\n",
    "        # connections need a bias term but the output does not\n",
    "        w = np.random.randn(layers[-2] + 1, layers[-1])\n",
    "        v = np.zeros((layers[-2] + 1, layers[-1]))\n",
    "        self.W.append(w / np.sqrt(layers[-2]))\n",
    "        self.V.append(v)\n",
    "    \n",
    "    def __repr__(self):\n",
    "        # construct and return a string that represents the network\n",
    "        # architecture\n",
    "        return \"NN architecture: {}\".format(\n",
    "        \"-\".join(str(l) for l in self.layers))\n",
    "    \n",
    "    def sigmoid(self, x):\n",
    "        # compute and return the sigmoid activation value for a\n",
    "        # given input value\n",
    "        return 1.0 / (1 + np.exp(-x))\n",
    "    \n",
    "    def sigmoid_deriv(self, x):\n",
    "        # compute the derivative of the sigmoid function ASSUMING\n",
    "        # that `x` has already been passed through the `sigmoid`\n",
    "        # function\n",
    "        return x * (1 - x)\n",
    "    \n",
    "    def fit(self, X, y,Xt,yt, epochs=1000, displayUpdate=100):\n",
    "        # insert a column of 1's as the last entry in the feature\n",
    "        # matrix -- this little trick allows us to treat the bias\n",
    "        # as a trainable parameter within the weight matrix\n",
    "        X = np.c_[X, np.ones((X.shape[0]))]\n",
    "        Xt = np.c_[Xt, np.ones((Xt.shape[0]))]\n",
    "        losses = []\n",
    "        # loop over the desired number of epochs\n",
    "        for epoch in np.arange(0, epochs):\n",
    "            # loop over each individual data point and train\n",
    "            # our network on it\n",
    "            for (x, target) in zip(X, y):\n",
    "                self.fit_partial(x, target)\n",
    "                # check to see if we should display a training update\n",
    "            if epoch == 0 or (epoch + 1) % displayUpdate == 0:\n",
    "                loss = self.calculate_loss(X, y)\n",
    "                print(\"[Training: ] epoch=\", epoch+1, \", loss=\",loss)\n",
    "                losses.append(loss) \n",
    "                tp = self.predict (Xt,addBias=False)\n",
    "                tloss = self.calculate_loss(Xt, yt)\n",
    "                print(\"[testing:] test loss\", tloss)\n",
    "        return losses\n",
    "                    \n",
    "    def fit_partial(self, x, y):\n",
    "        # construct our list of output activations for each layer\n",
    "        # as our data point flows through the network; the first\n",
    "        # activation is a special case -- it's just the input\n",
    "        # feature vector itself\n",
    "        A = [np.atleast_2d(x)]\n",
    "        # FEEDFORWARD:\n",
    "        # loop over the layers in the network\n",
    "        for layer in np.arange(0, len(self.W)):\n",
    "            # feedforward the activation at the current layer by\n",
    "            # taking the dot product between the activation and\n",
    "            # the weight matrix -- this is called the \"net input\"\n",
    "            # to the current layer\n",
    "            net = A[layer].dot(self.W[layer])\n",
    "            # computing the \"net output\" is simply applying our\n",
    "            # nonlinear activation function to the net input\n",
    "            out = self.sigmoid(net)\n",
    "            # once we have the net output, add it to our list of\n",
    "            # activations\n",
    "            A.append(out)\n",
    "\n",
    "        # BACKPROPAGATION\n",
    "        # the first phase of backpropagation is to compute the\n",
    "        # difference between our *prediction* (the final output\n",
    "        # activation in the activations list) and the true target\n",
    "        # value\n",
    "        derror = A[-1] - y\n",
    "\n",
    "        # from here, we need to apply the chain rule and build our\n",
    "        # list of deltas `D`; the first entry in the deltas is\n",
    "        # simply the error of the output layer times the derivative\n",
    "        # of our activation function for the output value\n",
    "        D = [derror * self.sigmoid_deriv(A[-1])]\n",
    "        # once you understand the chain rule it becomes super easy\n",
    "        # to implement with a `for` loop -- simply loop over the\n",
    "        # layers in reverse order (ignoring the last two since we\n",
    "        # already have taken them into account)\n",
    "        for layer in np.arange(len(A) - 2, 0, -1):\n",
    "            # the delta for the current layer is equal to the delta\n",
    "            # of the *previous layer* dotted with the weight matrix\n",
    "            # of the current layer, followed by multiplying the delta\n",
    "            # by the derivative of the nonlinear activation function\n",
    "            # for the activations of the current layer\n",
    "            delta = D[-1].dot(self.W[layer].T)\n",
    "            delta = delta * self.sigmoid_deriv(A[layer])\n",
    "            D.append(delta)\n",
    "        # since we looped over our layers in reverse order we need to\n",
    "        # reverse the deltas\n",
    "        D = D[::-1]\n",
    "        # WEIGHT UPDATE PHASE\n",
    "        # loop over the layers\n",
    "        for layer in np.arange(0, len(self.W)):\n",
    "        # update our weights by taking the dot product of the layer\n",
    "        # activations with their respective deltas, then multiplying\n",
    "        # this value by some small learning rate and adding to our\n",
    "        # weight matrix -- this is where the actual \"learning\" takes\n",
    "        # place\n",
    "#         V t = γV t−1 + α∇ W f (W )\n",
    "#         W = W −V t\n",
    "            vt = self.gamma*self.V[layer] + self.alpha * A[layer].T.dot(D[layer])\n",
    "            self.V[layer] = vt\n",
    "            self.W[layer] += -vt\n",
    "            \n",
    "    def predict(self, X,addBias=False):\n",
    "        # initialize the output prediction as the input features -- this\n",
    "        # value will be (forward) propagated through the network to\n",
    "        # obtain the final prediction\n",
    "        p = np.atleast_2d(X)\n",
    "        # insert a column of 1's as the last entry in the feature\n",
    "        # matrix (bias)\n",
    "        if addBias:\n",
    "            p = np.c_[p, np.ones((p.shape[0]))]\n",
    "        # loop over our layers in the network\n",
    "        for layer in np.arange(0, len(self.W)):\n",
    "            # computing the output prediction is simply\n",
    "            # the forward pass\n",
    "            \n",
    "            p = self.sigmoid(np.dot(p, self.W[layer]))\n",
    "        return p\n",
    "    \n",
    "    def calculate_loss(self, X, targets):\n",
    "        # make predictions for the input data points then compute\n",
    "        # the loss\n",
    "        targets = np.atleast_2d(targets)\n",
    "        predictions = self.predict(X)\n",
    "        loss = 0.5 * np.sum((predictions - targets) ** 2)\n",
    "        return loss"
   ]
  },
  {
   "cell_type": "code",
   "execution_count": 100,
   "metadata": {},
   "outputs": [
    {
     "name": "stdout",
     "output_type": "stream",
     "text": [
      "loading MNIST (sample) dataset...\n",
      "samples: 1797, dim: 64\n"
     ]
    }
   ],
   "source": [
    "# load the MNIST dataset and apply min/max scaling to scale the\n",
    "# pixel intensity values to the range [0, 1] (each image is\n",
    "# represented by an 8 x 8 = 64-dim feature vector)\n",
    "print(\"loading MNIST (sample) dataset...\")\n",
    "digits = datasets.load_digits()\n",
    "data = digits.data.astype(\"float\")\n",
    "data = (data - data.min()) / (data.max() - data.min())\n",
    "print(\"samples: {}, dim: {}\".format(data.shape[0],\n",
    "data.shape[1]))\n",
    "# construct the training and testing splits\n",
    "(trainX, testX, trainY, testY) = train_test_split(data,\n",
    "digits.target, test_size=0.25)\n",
    "# convert the labels from integers to vectors:1 = [0,1,0,0,0,0,0,0,0,0]\n",
    "lb=LabelBinarizer()\n",
    "trainY =lb.fit_transform(trainY)\n",
    "testY = lb.transform(testY)"
   ]
  },
  {
   "cell_type": "code",
   "execution_count": 102,
   "metadata": {},
   "outputs": [
    {
     "name": "stdout",
     "output_type": "stream",
     "text": [
      "training network...\n",
      "NN architecture: 64-32-16-10\n",
      "[Training: ] epoch= 1 , loss= 445.41864435125154\n",
      "[testing:] test loss 144.7703483011763\n",
      "[Training: ] epoch= 100 , loss= 1.532767381650222\n",
      "[testing:] test loss 6.978609349488146\n",
      "[Training: ] epoch= 200 , loss= 0.5456674405817543\n",
      "[testing:] test loss 6.148862346999165\n",
      "[Training: ] epoch= 300 , loss= 0.5284868137578248\n",
      "[testing:] test loss 5.996168654424266\n",
      "[Training: ] epoch= 400 , loss= 0.5211578782898845\n",
      "[testing:] test loss 5.909034606540044\n",
      "[Training: ] epoch= 500 , loss= 0.5169275560903366\n",
      "[testing:] test loss 5.85091596577333\n",
      "[Training: ] epoch= 600 , loss= 0.5141389814242496\n",
      "[testing:] test loss 5.808013336440566\n",
      "[Training: ] epoch= 700 , loss= 0.5121517837844493\n",
      "[testing:] test loss 5.774506386807513\n",
      "[Training: ] epoch= 800 , loss= 0.5106598444285787\n",
      "[testing:] test loss 5.747390957732041\n",
      "[Training: ] epoch= 900 , loss= 0.5094967330350791\n",
      "[testing:] test loss 5.724892569140718\n",
      "[Training: ] epoch= 1000 , loss= 0.5085636490759046\n",
      "[testing:] test loss 5.705867828663744\n",
      "[Training: ] epoch= 1100 , loss= 0.5077980312767604\n",
      "[testing:] test loss 5.68953519143648\n",
      "[Training: ] epoch= 1200 , loss= 0.5071582493476539\n",
      "[testing:] test loss 5.675337277676582\n",
      "[Training: ] epoch= 1300 , loss= 0.5066154846855908\n",
      "[testing:] test loss 5.6628636071634855\n",
      "[Training: ] epoch= 1400 , loss= 0.5061491332562926\n",
      "[testing:] test loss 5.651804141067664\n",
      "[Training: ] epoch= 1500 , loss= 0.5057440624199967\n",
      "[testing:] test loss 5.641919833862944\n",
      "evaluating network...\n",
      "              precision    recall  f1-score   support\n",
      "\n",
      "           0       1.00      1.00      1.00        53\n",
      "           1       0.98      1.00      0.99        43\n",
      "           2       1.00      1.00      1.00        44\n",
      "           3       1.00      1.00      1.00        32\n",
      "           4       1.00      0.98      0.99        51\n",
      "           5       1.00      0.97      0.99        38\n",
      "           6       1.00      1.00      1.00        40\n",
      "           7       0.98      1.00      0.99        52\n",
      "           8       0.98      0.96      0.97        54\n",
      "           9       0.95      0.98      0.97        43\n",
      "\n",
      "    accuracy                           0.99       450\n",
      "   macro avg       0.99      0.99      0.99       450\n",
      "weighted avg       0.99      0.99      0.99       450\n",
      "\n"
     ]
    }
   ],
   "source": [
    "# train the network\n",
    "print(\"training network...\")\n",
    "#create a network object with two hidden layer h1 = 32 units and h2 = 16 units\n",
    "# ENTER YOUR CODE HERE\n",
    "nn = NeuralNetwork([64,32,16, 10], alpha=0.5,gamma=0.5) \n",
    "print(\"{}\".format(nn))\n",
    "losses5 = nn.fit(trainX, trainY,testX, testY, epochs=1500)\n",
    "# evaluate the network\n",
    "print(\"evaluating network...\")\n",
    "predictions2 = nn.predict(testX,addBias=True)\n",
    "predictions2 = predictions2.argmax(axis=1)\n",
    "print(classification_report(testY.argmax(axis=1), predictions2))"
   ]
  },
  {
   "cell_type": "code",
   "execution_count": 107,
   "metadata": {},
   "outputs": [
    {
     "data": {
      "text/plain": [
       "[<matplotlib.lines.Line2D at 0x7fb5d0c82080>]"
      ]
     },
     "execution_count": 107,
     "metadata": {},
     "output_type": "execute_result"
    },
    {
     "data": {
      "image/png": "[encoded data removed]",
      "text/plain": [
       "<Figure size 432x288 with 1 Axes>"
      ]
     },
     "metadata": {
      "needs_background": "light"
     },
     "output_type": "display_data"
    }
   ],
   "source": [
    "plt.plot(losses2[:6])\n",
    "plt.plot(losses5[:6])"
   ]
  },
  {
   "cell_type": "code",
   "execution_count": null,
   "metadata": {},
   "outputs": [],
   "source": []
  }
 ],
 "metadata": {
  "kernelspec": {
   "display_name": "Python 3",
   "language": "python",
   "name": "python3"
  },
  "language_info": {
   "codemirror_mode": {
    "name": "ipython",
    "version": 3
   },
   "file_extension": ".py",
   "mimetype": "text/x-python",
   "name": "python",
   "nbconvert_exporter": "python",
   "pygments_lexer": "ipython3",
   "version": "3.6.8"
  }
 },
 "nbformat": 4,
 "nbformat_minor": 2
}
